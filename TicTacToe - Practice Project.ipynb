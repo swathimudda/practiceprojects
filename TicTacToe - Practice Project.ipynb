{
 "cells": [
  {
   "cell_type": "code",
   "execution_count": 1,
   "id": "65fac0e1",
   "metadata": {},
   "outputs": [],
   "source": [
    "def display_board(board):\n",
    "    print(\"-------\")\n",
    "    print(\"|\" + board[6]+\"|\" + board[7]+ \"|\"+board[8]+ \"|\")\n",
    "    print(\"-------\")\n",
    "    print(\"|\" + board[3]+\"|\" + board[4]+ \"|\"+board[5]+ \"|\")\n",
    "    print(\"-------\")\n",
    "    print(\"|\" + board[0]+\"|\" + board[1]+ \"|\"+board[2]+ \"|\")\n",
    "    print(\"-------\")"
   ]
  },
  {
   "cell_type": "code",
   "execution_count": 2,
   "id": "b3f4852b",
   "metadata": {},
   "outputs": [],
   "source": [
    "def start_game():\n",
    "    choice = \"WRONG\"\n",
    "    while choice not in ['X','O']:\n",
    "        choice = input(\"Hello, Player 1. Choose X or O : \")\n",
    "        if choice not in ['X', 'O']:\n",
    "            print(\"Invalid! Please choose X or O\")\n",
    "    return choice"
   ]
  },
  {
   "cell_type": "code",
   "execution_count": 3,
   "id": "d6444ff8",
   "metadata": {},
   "outputs": [],
   "source": [
    "def check_win(board, mark):\n",
    "   return ((board[6] == mark and board[7] == mark and board[8] == mark) or # across the top\n",
    "    (board[3] == mark and board[4] == mark and board[5] == mark) or # across the middle\n",
    "    (board[0] == mark and board[1] == mark and board[2] == mark) or # across the bottom\n",
    "    (board[6] == mark and board[3] == mark and board[0] == mark) or # down the middle\n",
    "    (board[7] == mark and board[4] == mark and board[1] == mark) or # down the middle\n",
    "    (board[8] == mark and board[5] == mark and board[2] == mark) or # down the right side\n",
    "    (board[6] == mark and board[4] == mark and board[2] == mark) or # diagonal\n",
    "    (board[8] == mark and board[4] == mark and board[0] == mark)) # diagonal"
   ]
  },
  {
   "cell_type": "code",
   "execution_count": 4,
   "id": "e8b6a332",
   "metadata": {},
   "outputs": [],
   "source": [
    "def play_turn(player_index, marker,slot_accessed, board, winner):\n",
    "    while not winner:\n",
    "        choice = 10\n",
    "        while choice not in range(0,9) or not slot_accessed[choice]:\n",
    "            choice = int(input(f'Hello player {player_index}. Choose the next position'))\n",
    "            if choice not in range(0,9):\n",
    "                print(\"Invalid! Select a number in the range 0-9\")\n",
    "            elif slot_accessed[choice] == True:\n",
    "                print(\"Invalid! Choose another position\")\n",
    "            else:\n",
    "                board[choice] = marker\n",
    "                slot_accessed[choice] = True\n",
    "                player_index = 1 if player_index == 2 else 2\n",
    "                marker = 'X' if marker =='O' else 'O'\n",
    "            display_board(board)\n",
    "            #print(\"Marker : {}\".format(marker))\n",
    "            winner = check_win(board, 'O' if marker=='X' else 'X')\n",
    "            print(\"Winner : {}\".format(winner))\n",
    "            if winner==True:\n",
    "                print(f'Player {player_index} wins')\n",
    "                break\n",
    "        if winner:\n",
    "            break"
   ]
  },
  {
   "cell_type": "code",
   "execution_count": 5,
   "id": "400959b9",
   "metadata": {},
   "outputs": [],
   "source": [
    "def play_game():\n",
    "    first_marker = start_game()\n",
    "    player_index = 1\n",
    "    slot_accessed = [False for i in range(0,9)]\n",
    "    board = [' ' for i in range(0,9)]\n",
    "    winner = False\n",
    "    play_turn(player_index, first_marker, slot_accessed, board, winner)\n"
   ]
  },
  {
   "cell_type": "code",
   "execution_count": 6,
   "id": "e1b2322a",
   "metadata": {},
   "outputs": [
    {
     "name": "stdout",
     "output_type": "stream",
     "text": [
      "Hello, Player 1. Choose X or O : O\n",
      "Hello player 1. Choose the next position4\n",
      "-------\n",
      "| | | |\n",
      "-------\n",
      "| |O| |\n",
      "-------\n",
      "| | | |\n",
      "-------\n",
      "Winner : False\n",
      "Hello player 2. Choose the next position0\n",
      "-------\n",
      "| | | |\n",
      "-------\n",
      "| |O| |\n",
      "-------\n",
      "|X| | |\n",
      "-------\n",
      "Winner : False\n",
      "Hello player 1. Choose the next position1\n",
      "-------\n",
      "| | | |\n",
      "-------\n",
      "| |O| |\n",
      "-------\n",
      "|X|O| |\n",
      "-------\n",
      "Winner : False\n",
      "Hello player 2. Choose the next position2\n",
      "-------\n",
      "| | | |\n",
      "-------\n",
      "| |O| |\n",
      "-------\n",
      "|X|O|X|\n",
      "-------\n",
      "Winner : False\n",
      "Hello player 1. Choose the next position7\n",
      "-------\n",
      "| |O| |\n",
      "-------\n",
      "| |O| |\n",
      "-------\n",
      "|X|O|X|\n",
      "-------\n",
      "Winner : True\n",
      "Player 2 wins\n"
     ]
    }
   ],
   "source": [
    "play_game()"
   ]
  },
  {
   "cell_type": "code",
   "execution_count": null,
   "id": "5a801b8c",
   "metadata": {},
   "outputs": [],
   "source": []
  }
 ],
 "metadata": {
  "kernelspec": {
   "display_name": "Python 3 (ipykernel)",
   "language": "python",
   "name": "python3"
  },
  "language_info": {
   "codemirror_mode": {
    "name": "ipython",
    "version": 3
   },
   "file_extension": ".py",
   "mimetype": "text/x-python",
   "name": "python",
   "nbconvert_exporter": "python",
   "pygments_lexer": "ipython3",
   "version": "3.9.7"
  }
 },
 "nbformat": 4,
 "nbformat_minor": 5
}
